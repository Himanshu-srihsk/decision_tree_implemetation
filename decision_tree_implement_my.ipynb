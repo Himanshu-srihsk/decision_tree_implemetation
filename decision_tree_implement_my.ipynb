{
 "cells": [
  {
   "cell_type": "code",
   "execution_count": 1,
   "metadata": {},
   "outputs": [],
   "source": [
    "import numpy as np\n",
    "import pandas as pd\n",
    "import math"
   ]
  },
  {
   "cell_type": "code",
   "execution_count": 2,
   "metadata": {},
   "outputs": [],
   "source": [
    "class TreeNode:\n",
    "    def __init__(self, data,output):\n",
    "        self.data=data\n",
    "        self.output=output\n",
    "        self.children={}\n",
    "        self.index = -1\n",
    "    \n",
    "    def child(self,feature_value,obj):\n",
    "        self.children[feature_value] = obj"
   ]
  },
  {
   "cell_type": "code",
   "execution_count": 7,
   "metadata": {},
   "outputs": [],
   "source": [
    "class DecisionTreeClassifier:\n",
    "    def __init__(self):\n",
    "        self._root=None\n",
    "    \n",
    "    def __count_unique(self,Y):\n",
    "        d={}\n",
    "        for i in Y:\n",
    "            if i not in d:\n",
    "                d[i]=1\n",
    "            else:\n",
    "                d[i]+=1\n",
    "        return d  \n",
    "    \n",
    "    def __entropy(self,Y):\n",
    "            freq_map = self.__count_unique(Y)\n",
    "            entropy_=0\n",
    "            total = len(Y)\n",
    "            for i in freq_map:\n",
    "                p = freq_map[i]/total\n",
    "                entropy_ += (-p)*math.log2(p)\n",
    "            return entropy_\n",
    "        \n",
    "    def __gain_ratio(self,X,Y,selected_feature):\n",
    "        # returns the gain ratio\n",
    "        info_orig = self.__entropy(Y) # info_orig represents entropy before splitting\n",
    "        info_f = 0  # info_f represents entropy after splitting upon the selected feature\n",
    "        split_info = 0\n",
    "        values = set(X[:,selected_feature])\n",
    "        #print(values)\n",
    "        df = pd.DataFrame(X)\n",
    "        df[df.shape[1]] = Y\n",
    "        initial_size = df.shape[0] \n",
    "        for i in values:\n",
    "            df1 = df[df[selected_feature] == i]\n",
    "            current_size = df1.shape[0]\n",
    "            info_f += (current_size/initial_size)*self.__entropy(df1[df1.shape[1]-1])\n",
    "            split_info += (-current_size/initial_size)*math.log2(current_size/initial_size)\n",
    "\n",
    "        # to handle the case when split info = 0 which leads to division by 0 error\n",
    "        if split_info == 0 :\n",
    "            return math.inf\n",
    "\n",
    "        info_gain = info_orig - info_f\n",
    "        gain_ratio = info_gain / split_info\n",
    "        return gain_ratio\n",
    "        \n",
    "    def __decision_tree(self,X,Y,features,level,metric,classes): \n",
    "        #for pure node\n",
    "        #base condition1\n",
    "        if len(set(Y)) == 1:\n",
    "            print(\"Level\",level)\n",
    "            output = None\n",
    "            for i in classes:\n",
    "                if i in Y:\n",
    "                    output = i\n",
    "                    print(\"Count of\",i,\"=\",len(Y))\n",
    "                else :\n",
    "                    print(\"Count of\",i,\"=\",0)\n",
    "            if metric == \"gain_ratio\":\n",
    "                print(\"Current Entropy is =  0.0\")\n",
    "            \n",
    "\n",
    "            print(\"Reached leaf Node\")\n",
    "            print()\n",
    "            return TreeNode(None,output)\n",
    "        \n",
    "        #for run out of feature\n",
    "        #base condition2\n",
    "        if len(features) == 0:\n",
    "            print(\"Level\",level)\n",
    "            freq_map = self.__count_unique(Y)\n",
    "            output = None\n",
    "            max_count = -math.inf\n",
    "            for i in classes:\n",
    "                if i not in freq_map:\n",
    "                    print(\"Count of\",i,\"=\",0)\n",
    "                else :\n",
    "                    if freq_map[i] > max_count :\n",
    "                        output = i\n",
    "                        max_count = freq_map[i]\n",
    "                    print(\"Count of\",i,\"=\",freq_map[i])\n",
    "\n",
    "            if metric == \"gain_ratio\":\n",
    "                print(\"Current Entropy  is =\",self.__entropy(Y))\n",
    "             \n",
    "\n",
    "            print(\"Reached leaf Node\")\n",
    "            print()\n",
    "            return TreeNode(None,output)\n",
    "        \n",
    "        #for rest calculate max gain\n",
    "        #find best feature upon which we can split\n",
    "        max_gain=-math.inf\n",
    "        current_gain=0\n",
    "        for f in features:\n",
    "            current_gain = self.__gain_ratio(X,Y,f)\n",
    "            if(current_gain>max_gain):\n",
    "                max_gain = current_gain\n",
    "                final_feature = f\n",
    "        \n",
    "        #at this time we have final_feature as our splitting attribute and its respective gain is max_gain\n",
    "        \n",
    "        print(\"level\",level)\n",
    "        freq_map = self.__count_unique(Y)\n",
    "        output = None\n",
    "        max_count = -math.inf\n",
    "        for i in classes:\n",
    "                if freq_map[i] > max_count :\n",
    "                    output = i\n",
    "                    max_count = freq_map[i]\n",
    "                print(\"Count of\",i,\"=\",freq_map[i])\n",
    "                \n",
    "        print(\"Current Entropy is =\",self.__entropy(Y))  \n",
    "        print(\"Splitting on feature  X\",final_feature+1,\" with gain ratio \",max_gain,sep=\"\")\n",
    "        unique_values = set(X[:,final_feature]) \n",
    "        # unique_values represents the unique values of the feature selected\n",
    "        \n",
    "        df = pd.DataFrame(X)\n",
    "        df[df.shape[1]] = Y\n",
    "        current_node = TreeNode(final_feature,output)\n",
    "        #finally saving current_node in TreeNode where has to take place\n",
    "        \n",
    "        index  = features.index(final_feature)\n",
    "        features.remove(final_feature)\n",
    "        #removing the final_feature from feature\n",
    "        \n",
    "        #parse on all unique labels in final_feature \n",
    "        for i in unique_values:\n",
    "            # Creating a new dataframe with value of selected feature = i\n",
    "            df1 = df[df[final_feature] == i]\n",
    "            # Segregating the X and Y values and recursively calling on the splits\n",
    "            node = self.__decision_tree(df1.iloc[:,0:df1.shape[1]-1].values,df1.iloc[:,df1.shape[1]-1].values,features,level+1,metric,classes)\n",
    "            current_node.child(i,node)\n",
    "\n",
    "        # Adding the removed feature     \n",
    "        features.insert(index,final_feature)\n",
    "\n",
    "        return current_node\n",
    "    \n",
    "    def __predict_for(self,data,node):\n",
    "        # predicts the class for a given testing point and returns the answer\n",
    "        \n",
    "        # We have reached a leaf node\n",
    "        if len(node.children) == 0 :\n",
    "            return node.output\n",
    "        \n",
    "        #print(\"node data\",node.data)\n",
    "        val = data[node.data] # represents the value of feature on which the split was made  \n",
    "        #print(\"val\",val)\n",
    "        #print(\"node children\",node.children)\n",
    "        if val not in node.children :\n",
    "            return node.output\n",
    "        \n",
    "        # Recursively call on the splits\n",
    "        return self.__predict_for(data,node.children[val])  \n",
    "    \n",
    "    def predict(self,X):\n",
    "        # This function returns Y predicted\n",
    "        # X should be a 2-D np array\n",
    "        Y = np.array([0 for i in range(len(X))])\n",
    "        \n",
    "        for i in range(len(X)):\n",
    "            Y[i] = self.__predict_for(X[i],self.__root)\n",
    "        return Y             \n",
    "        \n",
    "    def fit(self,X,Y,metric=\"gain_ratio\"):\n",
    "        features=[i for i in range(X.shape[1])]\n",
    "        classes=set(Y)\n",
    "        level = 0\n",
    "        self.__root = self.__decision_tree(X,Y,features,level,metric,classes)\n",
    "        \n",
    "    def score(self,X,Y):\n",
    "        # returns the mean accuracy\n",
    "        Y_pred = self.predict(X)\n",
    "        count = 0\n",
    "        for i in range(len(Y_pred)):\n",
    "            if Y_pred[i] == Y[i]:\n",
    "                count+=1\n",
    "                return count/len(Y_pred) "
   ]
  },
  {
   "cell_type": "code",
   "execution_count": 8,
   "metadata": {},
   "outputs": [
    {
     "name": "stdout",
     "output_type": "stream",
     "text": [
      "level 0\n",
      "Count of 0 = 1\n",
      "Count of 1 = 3\n",
      "Current Entropy is = 0.8112781244591328\n",
      "Splitting on feature  X1 with gain ratio 0.31127812445913283\n",
      "level 1\n",
      "Count of 0 = 1\n",
      "Count of 1 = 1\n",
      "Current Entropy is = 1.0\n",
      "Splitting on feature  X2 with gain ratio 1.0\n",
      "Level 2\n",
      "Count of 0 = 1\n",
      "Count of 1 = 0\n",
      "Current Entropy is =  0.0\n",
      "Reached leaf Node\n",
      "\n",
      "Level 2\n",
      "Count of 0 = 0\n",
      "Count of 1 = 1\n",
      "Current Entropy is =  0.0\n",
      "Reached leaf Node\n",
      "\n",
      "Level 1\n",
      "Count of 0 = 0\n",
      "Count of 1 = 2\n",
      "Current Entropy is =  0.0\n",
      "Reached leaf Node\n",
      "\n"
     ]
    }
   ],
   "source": [
    "clf = DecisionTreeClassifier()\n",
    "\n",
    "x = np.array([[0,0],\n",
    "              [0,1],\n",
    "              [1,0],\n",
    "              [1,1]])\n",
    "\n",
    "y = np.array([0,\n",
    "              1,\n",
    "              1,\n",
    "              1]) \n",
    "clf.fit(x,y)\n"
   ]
  },
  {
   "cell_type": "code",
   "execution_count": 9,
   "metadata": {},
   "outputs": [
    {
     "name": "stdout",
     "output_type": "stream",
     "text": [
      "node data 0\n",
      "val 0\n",
      "node children {0: <__main__.TreeNode object at 0x000002B81D7BE630>, 1: <__main__.TreeNode object at 0x000002B81D7B3E80>}\n",
      "node data 1\n",
      "val 0\n",
      "node children {0: <__main__.TreeNode object at 0x000002B81D7BE4A8>, 1: <__main__.TreeNode object at 0x000002B81D7BE208>}\n",
      "node data 0\n",
      "val 0\n",
      "node children {0: <__main__.TreeNode object at 0x000002B81D7BE630>, 1: <__main__.TreeNode object at 0x000002B81D7B3E80>}\n",
      "node data 1\n",
      "val 1\n",
      "node children {0: <__main__.TreeNode object at 0x000002B81D7BE4A8>, 1: <__main__.TreeNode object at 0x000002B81D7BE208>}\n",
      "node data 0\n",
      "val 1\n",
      "node children {0: <__main__.TreeNode object at 0x000002B81D7BE630>, 1: <__main__.TreeNode object at 0x000002B81D7B3E80>}\n",
      "node data 0\n",
      "val 1\n",
      "node children {0: <__main__.TreeNode object at 0x000002B81D7BE630>, 1: <__main__.TreeNode object at 0x000002B81D7B3E80>}\n",
      "Predictions :  [0 1 1 1]\n",
      "\n"
     ]
    }
   ],
   "source": [
    "Y_pred8 = clf.predict(x)\n",
    "print(\"Predictions : \",Y_pred8)\n",
    "print()"
   ]
  },
  {
   "cell_type": "code",
   "execution_count": null,
   "metadata": {},
   "outputs": [],
   "source": [
    "from sklearn import datasets\n",
    "X,Y = datasets.make_classification(n_samples=100, n_features=10, n_informative=2, n_redundant=2, random_state=0)"
   ]
  },
  {
   "cell_type": "code",
   "execution_count": null,
   "metadata": {},
   "outputs": [],
   "source": [
    "X.shape"
   ]
  },
  {
   "cell_type": "code",
   "execution_count": null,
   "metadata": {},
   "outputs": [],
   "source": [
    "Y.shape"
   ]
  },
  {
   "cell_type": "code",
   "execution_count": null,
   "metadata": {},
   "outputs": [],
   "source": [
    "for i in range(len(X)):\n",
    "    for j in range(len(X[0])):\n",
    "        X[i][j] = int(X[i][j])\n",
    "        \n",
    "clf2 = DecisionTreeClassifier()\n",
    "clf2.fit(X,Y)"
   ]
  },
  {
   "cell_type": "code",
   "execution_count": null,
   "metadata": {},
   "outputs": [],
   "source": [
    "Y_pred2 = clf2.predict(X)\n",
    "print(\"Predictions : \",Y_pred2)\n",
    "print()\n",
    "our_score = clf2.score(X,Y)\n",
    "print(\"Score :\",our_score) \n",
    "print()"
   ]
  },
  {
   "cell_type": "code",
   "execution_count": null,
   "metadata": {},
   "outputs": [],
   "source": [
    "import sklearn.tree\n",
    "clf3 = sklearn.tree.DecisionTreeClassifier()\n",
    "clf3.fit(X,Y)\n",
    "Y_pred3 = clf3.predict(X)\n",
    "print(Y_pred3)\n",
    "sklearn_score = clf3.score(X,Y)\n",
    "print(\"Score :\",sklearn_score)\n",
    "print(\"Score of our model :\",our_score)\n",
    "\n",
    "print(\"Score of inbuilt sklearn's decision tree on the same data is:\",sklearn_score)"
   ]
  },
  {
   "cell_type": "code",
   "execution_count": 10,
   "metadata": {},
   "outputs": [],
   "source": [
    "de = np.array([[0,0],\n",
    "              [0,1],\n",
    "              [1,0],\n",
    "              [1,1]])"
   ]
  },
  {
   "cell_type": "code",
   "execution_count": 12,
   "metadata": {},
   "outputs": [],
   "source": [
    "da=de[0]"
   ]
  },
  {
   "cell_type": "code",
   "execution_count": 13,
   "metadata": {},
   "outputs": [
    {
     "data": {
      "text/plain": [
       "0"
      ]
     },
     "execution_count": 13,
     "metadata": {},
     "output_type": "execute_result"
    }
   ],
   "source": [
    "da[0]"
   ]
  },
  {
   "cell_type": "code",
   "execution_count": null,
   "metadata": {},
   "outputs": [],
   "source": []
  }
 ],
 "metadata": {
  "kernelspec": {
   "display_name": "Python 3",
   "language": "python",
   "name": "python3"
  },
  "language_info": {
   "codemirror_mode": {
    "name": "ipython",
    "version": 3
   },
   "file_extension": ".py",
   "mimetype": "text/x-python",
   "name": "python",
   "nbconvert_exporter": "python",
   "pygments_lexer": "ipython3",
   "version": "3.7.1"
  }
 },
 "nbformat": 4,
 "nbformat_minor": 2
}
